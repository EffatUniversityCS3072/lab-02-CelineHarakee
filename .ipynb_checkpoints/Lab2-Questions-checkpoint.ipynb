{
 "cells": [
  {
   "cell_type": "markdown",
   "id": "582fd51e",
   "metadata": {},
   "source": [
    "# Lab 2: numpy\n",
    "\n",
    "#### Practice Exercise 1\n",
    "\n",
    "Create the following NumPy arrays: \n",
    "1. A 1-D array called zeros having 10 elements and all the elements are set to zero. \n",
    "2. A 1-D array called vowels having the elements ‘a’, ‘e’, ‘i’, ‘o’ and ‘u’. \n",
    "3. A 2-D array called ones having 2 rows and 5 columns and all the elements are set to 1 and dtype as int. \n",
    "4. Use nested Python lists to create a 2-D array called myarray1 having 3 rows and 3 columns and store the following data: 2.7,  0,  -2,  3.4,  10.6,  0,  -19 99.9 13 \n",
    "5. A 2-D array called myarray2 using arange() having 3 rows and 5 columns with start value = 4, step size 4 and dtype as float\n"
   ]
  },
  {
   "cell_type": "code",
   "execution_count": 3,
   "id": "b1bdc99a-a658-487f-b65f-79323492b83b",
   "metadata": {},
   "outputs": [],
   "source": [
    "import numpy as np"
   ]
  },
  {
   "cell_type": "code",
   "execution_count": 12,
   "id": "9195d139",
   "metadata": {},
   "outputs": [
    {
     "data": {
      "text/plain": [
       "array([0, 0, 0, 0, 0, 0, 0, 0, 0, 0])"
      ]
     },
     "execution_count": 12,
     "metadata": {},
     "output_type": "execute_result"
    }
   ],
   "source": [
    "# 1.\n",
    "zeros = np.array([0,0,0,0,0,0,0,0,0,0])\n",
    "zeros"
   ]
  },
  {
   "cell_type": "code",
   "execution_count": 147,
   "id": "e270f7a9-c396-4135-8de7-836d612cb380",
   "metadata": {},
   "outputs": [
    {
     "name": "stdout",
     "output_type": "stream",
     "text": [
      "['a' 'e' 'i' 'o' 'u']\n"
     ]
    }
   ],
   "source": [
    "# 2.\n",
    "vowels = np.array([\"a\", \"e\", \"i\", \"o\", \"u\"])\n",
    "print(vowels)"
   ]
  },
  {
   "cell_type": "code",
   "execution_count": 30,
   "id": "e8325026-c03a-4194-959e-18b1f914bbe0",
   "metadata": {},
   "outputs": [
    {
     "data": {
      "text/plain": [
       "array([[1, 1, 1, 1, 1],\n",
       "       [1, 1, 1, 1, 1]])"
      ]
     },
     "execution_count": 30,
     "metadata": {},
     "output_type": "execute_result"
    }
   ],
   "source": [
    "# 3.\n",
    "ones = np.array([[1,1,1,1,1],\n",
    "                [1,1,1,1,1]])\n",
    "ones"
   ]
  },
  {
   "cell_type": "code",
   "execution_count": 321,
   "id": "c078d305-8574-4754-a1c3-821622f29c3a",
   "metadata": {},
   "outputs": [
    {
     "data": {
      "text/plain": [
       "array([[  2.7,   0. ,  -2. ],\n",
       "       [  3.4,  10.6,   0. ],\n",
       "       [-19. ,  99.9,  13. ]])"
      ]
     },
     "execution_count": 321,
     "metadata": {},
     "output_type": "execute_result"
    }
   ],
   "source": [
    "# 4.\n",
    "myarray1 = np.array([[2.7,0,-2],\n",
    "             [3.4,10.6,0],\n",
    "             [-19,99.9,13]])\n",
    "myarray1"
   ]
  },
  {
   "cell_type": "code",
   "execution_count": 437,
   "id": "f11e7d15-0c34-4463-b456-986c4c35b674",
   "metadata": {},
   "outputs": [
    {
     "data": {
      "text/plain": [
       "array([[ 4.,  8., 12., 16., 20.],\n",
       "       [24., 28., 32., 36., 40.],\n",
       "       [44., 48., 52., 56., 60.]])"
      ]
     },
     "execution_count": 437,
     "metadata": {},
     "output_type": "execute_result"
    }
   ],
   "source": [
    "# 5. \n",
    "# creates arrays with evenly spaced values\n",
    "# numpy.arange(start, stop, step, dtype =)\n",
    "\n",
    "myarray2 = np.arange(4, 4 + 15 * 4, 4, dtype=float) # end on 64, cuz 3 * 5 = 15\n",
    "myarray2 = myarray2.reshape(3, 5)\n",
    "myarray2"
   ]
  },
  {
   "cell_type": "markdown",
   "id": "2d3fc3a8",
   "metadata": {},
   "source": [
    "Using the arrays created in Question above, write NumPy commands for the following: \n",
    "1. Find the dimensions, shape, size, data type of the items and itemsize of arrays zeros, vowels, ones, myarray1 and myarray2. \n",
    "2. Reshape the array ones to have all the 10 elements in a single row. \n",
    "3. Display the 2nd and 3rd element of the array vowels. \n",
    "4. Display all elements in the 2nd and 3rd row of the array myarray1. \n",
    "5. Display the elements in the 1st and 2nd column of the array myarray1. \n",
    "6. Display the elements in the 1st column of the 2nd and 3rd row of the array myarray1. \n",
    "7. Reverse the array of vowels."
   ]
  },
  {
   "cell_type": "code",
   "execution_count": 179,
   "id": "fc69c3db",
   "metadata": {},
   "outputs": [
    {
     "name": "stdout",
     "output_type": "stream",
     "text": [
      "Zeros\n",
      "Dimensions:  1\n",
      "Shape:  (10,)\n",
      "Size:  10\n",
      "Data Types:  int64\n",
      "---------------------\n",
      "Vowels\n",
      "Dimensions:  1\n",
      "Shape:  (5,)\n",
      "Size:  5\n",
      "Data Types:  <U1\n",
      "---------------------\n",
      "Ones\n",
      "Dimensions:  2\n",
      "Shape:  (2, 5)\n",
      "Size:  10\n",
      "Data Types:  int64\n",
      "---------------------\n",
      "myarray1\n",
      "Dimensions:  2\n",
      "Shape:  (3, 3)\n",
      "Size:  9\n",
      "Data Types:  float64\n",
      "---------------------\n",
      "myarray2\n",
      "Dimensions:  2\n",
      "Shape:  (3, 5)\n",
      "Size:  15\n",
      "Data Types:  float64\n"
     ]
    }
   ],
   "source": [
    "# 1. Find the dimensions, shape, size, data type of the items and itemsize of arrays zeros, vowels, ones, myarray1 and myarray2.\n",
    "zeros\n",
    "print(\"Zeros\")\n",
    "print(\"Dimensions: \" , zeros.ndim)\n",
    "print(\"Shape: \" , zeros.shape)\n",
    "print(\"Size: \" , zeros.size)\n",
    "print(\"Data Types: \" , zeros.dtype)\n",
    "print(\"---------------------\")\n",
    "print(\"Vowels\")\n",
    "print(\"Dimensions: \" , vowels.ndim)\n",
    "print(\"Shape: \" , vowels.shape)\n",
    "print(\"Size: \" , vowels.size)\n",
    "print(\"Data Types: \" , vowels.dtype)\n",
    "print(\"---------------------\")\n",
    "print(\"Ones\")\n",
    "print(\"Dimensions: \" , ones.ndim)\n",
    "print(\"Shape: \" , ones.shape)\n",
    "print(\"Size: \" , ones.size)\n",
    "print(\"Data Types: \" , ones.dtype)\n",
    "print(\"---------------------\")\n",
    "print(\"myarray1\")\n",
    "print(\"Dimensions: \" , myarray1.ndim)\n",
    "print(\"Shape: \" , myarray1.shape)\n",
    "print(\"Size: \" , myarray1.size)\n",
    "print(\"Data Types: \" , myarray1.dtype)\n",
    "print(\"---------------------\")\n",
    "print(\"myarray2\")\n",
    "print(\"Dimensions: \" , myarray2.ndim)\n",
    "print(\"Shape: \" , myarray2.shape)\n",
    "print(\"Size: \" , myarray2.size)\n",
    "print(\"Data Types: \" , myarray2.dtype)"
   ]
  },
  {
   "cell_type": "code",
   "execution_count": 181,
   "id": "70fa49a1-9d4f-49af-89bf-559543ffc957",
   "metadata": {},
   "outputs": [
    {
     "name": "stdout",
     "output_type": "stream",
     "text": [
      "Ones:  [[1 1 1 1 1 1 1 1 1 1]]\n",
      "myarray1:  [[  2.7   0.   -2.    3.4  10.6   0.  -19.   99.9  13. ]]\n",
      "myarray2:  [[ 4.  8. 12. 16. 20. 24. 28. 32. 36. 40. 44. 48. 52. 56. 60.]]\n"
     ]
    }
   ],
   "source": [
    "# 2. Reshape the array ones to have all the 10 elements in a single row.\n",
    "print(\"Ones: \" , ones.reshape(1,-1)) # -1; reshapes the array into as many columns\n",
    "print(\"myarray1: \" , myarray1.reshape(1,-1))\n",
    "print(\"myarray2: \" , myarray2.reshape(1,-1))"
   ]
  },
  {
   "cell_type": "code",
   "execution_count": 177,
   "id": "c8ada5d2-489a-448e-b187-9cac3dbcf03e",
   "metadata": {},
   "outputs": [
    {
     "name": "stdout",
     "output_type": "stream",
     "text": [
      "e\n",
      "i\n"
     ]
    }
   ],
   "source": [
    "# 3. Display the 2nd and 3rd element of the array vowels.\n",
    "print(vowels[1])\n",
    "print(vowels[2])"
   ]
  },
  {
   "cell_type": "code",
   "execution_count": 191,
   "id": "09d45162-279b-4c38-a0ba-2501c1459fe1",
   "metadata": {},
   "outputs": [
    {
     "name": "stdout",
     "output_type": "stream",
     "text": [
      "[[  3.4  10.6   0. ]\n",
      " [-19.   99.9  13. ]]\n"
     ]
    }
   ],
   "source": [
    "# 4. Display all elements in the 2nd and 3rd row of the array myarray1.\n",
    "print(myarray1[1:3]) # 1, second row. 3, not available, so last row. \n",
    "                     # myarray1[1:2] gets only the 2nd row."
   ]
  },
  {
   "cell_type": "code",
   "execution_count": 207,
   "id": "294b23a1-539f-4a53-b119-b5a24f29996f",
   "metadata": {},
   "outputs": [
    {
     "name": "stdout",
     "output_type": "stream",
     "text": [
      "[[  2.7   0. ]\n",
      " [  3.4  10.6]\n",
      " [-19.   99.9]]\n"
     ]
    }
   ],
   "source": [
    "# 5. Display the elements in the 1st and 2nd column of the array myarray1.\n",
    "print(myarray1[:, 0:2]) # select all rows, and select specific columns"
   ]
  },
  {
   "cell_type": "code",
   "execution_count": 223,
   "id": "21351300-8de1-4a7a-81d5-c2f74d34ece3",
   "metadata": {},
   "outputs": [
    {
     "name": "stdout",
     "output_type": "stream",
     "text": [
      "[  3.4 -19. ]\n"
     ]
    }
   ],
   "source": [
    "# 6. Display the elements in the 1st column of the 2nd and 3rd row of the array myarray1.\n",
    "print(myarray1[1:3, 0]) # 0 means first column"
   ]
  },
  {
   "cell_type": "code",
   "execution_count": 399,
   "id": "99399531-8507-4710-b420-d63e9a862663",
   "metadata": {},
   "outputs": [
    {
     "name": "stdout",
     "output_type": "stream",
     "text": [
      "['u' 'o' 'i' 'e' 'a']\n"
     ]
    }
   ],
   "source": [
    "# 7. Reverse the array of vowels.\n",
    "print(vowels[::-1]) # reverse all elements"
   ]
  },
  {
   "cell_type": "markdown",
   "id": "e1edb3bb",
   "metadata": {},
   "source": [
    "Using the arrays created in Question above, write NumPy commands for the following:\n",
    "1. Divide all elements of array ones by 3. \n",
    "2. Add the arrays myarray1 and myarray2. \n",
    "3. Subtract myarray1 from myarray2 and store the result in a new array. \n",
    "4. Multiply myarray1 and myarray2 elementwise. \n",
    "5. Do the matrix multiplication of myarray1 and myarray2 and store the result in a new array myarray3. \n",
    "6. Divide myarray1 by myarray2. \n",
    "7. Find the cube of all elements of myarray1 and divide the resulting array by 2. \n",
    "8. Find the square root of all elements of myarray2   and divide the resulting array by 2. The result  should be rounded to two places of decimals."
   ]
  },
  {
   "cell_type": "code",
   "execution_count": 237,
   "id": "3c933386",
   "metadata": {},
   "outputs": [
    {
     "data": {
      "text/plain": [
       "array([[0.33333333, 0.33333333, 0.33333333, 0.33333333, 0.33333333],\n",
       "       [0.33333333, 0.33333333, 0.33333333, 0.33333333, 0.33333333]])"
      ]
     },
     "execution_count": 237,
     "metadata": {},
     "output_type": "execute_result"
    }
   ],
   "source": [
    "# 1. Divide all elements of array ones by 3.\n",
    "ones / 3"
   ]
  },
  {
   "cell_type": "code",
   "execution_count": 307,
   "id": "a1612be4-f5d7-41cf-8eaa-68b17e5bbccd",
   "metadata": {},
   "outputs": [
    {
     "name": "stdout",
     "output_type": "stream",
     "text": [
      "[[  6.7   8.   10.   19.4  30.6  24.    9.  131.9  49. ]]\n"
     ]
    }
   ],
   "source": [
    "# 2. Add the arrays myarray1 and myarray2.\n",
    "flat_myarray1 = myarray1.reshape(1, -1)  # (1, 9)\n",
    "flat_myarray2 = myarray2.reshape(1, -1)  # (1, 15)\n",
    "\n",
    "myarray2_sliced = flat_myarray2[:, :9]  # slice flat_myarray2 to make it match the nb of elements of myarray1 -> (1,9)\n",
    "\n",
    "print (flat_myarray1 + myarray2_sliced)"
   ]
  },
  {
   "cell_type": "code",
   "execution_count": 309,
   "id": "f40da37e-3e82-40c3-b240-518edadf8954",
   "metadata": {},
   "outputs": [
    {
     "name": "stdout",
     "output_type": "stream",
     "text": [
      "[[ -1.3  -8.  -14.  -12.6  -9.4 -24.  -47.   67.9 -23. ]]\n"
     ]
    }
   ],
   "source": [
    "# 3. Subtract myarray1 from myarray2 and store the result in a new array.\n",
    "flat_myarray1 = myarray1.reshape(1, -1) \n",
    "flat_myarray2 = myarray2.reshape(1, -1)  \n",
    "\n",
    "myarray2_sliced = flat_myarray2[:, :9]\n",
    "\n",
    "subtract = flat_myarray1 - myarray2_sliced\n",
    "print(subtract)"
   ]
  },
  {
   "cell_type": "code",
   "execution_count": 337,
   "id": "13ab28c0-a393-4065-91f0-1ed1b5945a59",
   "metadata": {},
   "outputs": [
    {
     "name": "stdout",
     "output_type": "stream",
     "text": [
      "[[  10.8    0.   -24. ]\n",
      " [  81.6  296.8    0. ]\n",
      " [-836.  4795.2  676. ]]\n"
     ]
    }
   ],
   "source": [
    "# 4. Multiply myarray1 and myarray2 elementwise.\n",
    "myarray2_sliced = myarray2[:, :3]  # (3, 3)\n",
    "print(myarray1 * myarray2_sliced)"
   ]
  },
  {
   "cell_type": "code",
   "execution_count": 339,
   "id": "cd204c87-6718-4a80-a435-0255f7bfa2d0",
   "metadata": {},
   "outputs": [
    {
     "data": {
      "text/plain": [
       "array([[ -77.2,  -74.4,  -71.6,  -68.8,  -66. ],\n",
       "       [ 268. ,  324. ,  380. ,  436. ,  492. ],\n",
       "       [2893.6, 3269.2, 3644.8, 4020.4, 4396. ]])"
      ]
     },
     "execution_count": 339,
     "metadata": {},
     "output_type": "execute_result"
    }
   ],
   "source": [
    "# 5. Do the matrix multiplication of myarray1 and myarray2 and store the result in a new array myarray3.\n",
    "myarray3 = myarray1.dot(myarray2) # no need to transpose\n",
    "myarray3"
   ]
  },
  {
   "cell_type": "code",
   "execution_count": 343,
   "id": "72e30632-6fa0-4411-8719-5b64cbc5d76c",
   "metadata": {},
   "outputs": [
    {
     "name": "stdout",
     "output_type": "stream",
     "text": [
      "[[ 0.675       0.         -0.16666667]\n",
      " [ 0.14166667  0.37857143  0.        ]\n",
      " [-0.43181818  2.08125     0.25      ]]\n"
     ]
    }
   ],
   "source": [
    "# 6. Divide myarray1 by myarray2.\n",
    "myarray2_sliced = myarray2[:, :3] \n",
    "print(myarray1 / myarray2_sliced)"
   ]
  },
  {
   "cell_type": "code",
   "execution_count": 367,
   "id": "cb1559d4-562b-4098-9f08-3defbfc67213",
   "metadata": {},
   "outputs": [
    {
     "data": {
      "text/plain": [
       "array([[ 9.841500e+00,  0.000000e+00, -4.000000e+00],\n",
       "       [ 1.965200e+01,  5.955080e+02,  0.000000e+00],\n",
       "       [-3.429500e+03,  4.985015e+05,  1.098500e+03]])"
      ]
     },
     "execution_count": 367,
     "metadata": {},
     "output_type": "execute_result"
    }
   ],
   "source": [
    "# 7. Find the cube of all elements of myarray1 and divide the resulting array by 2.\n",
    "myarray1_cubed = myarray1 ** 3\n",
    "myarray1_cubed / 2"
   ]
  },
  {
   "cell_type": "code",
   "execution_count": 383,
   "id": "50f05ada-d41c-4d39-b6cc-bf8d230df703",
   "metadata": {},
   "outputs": [
    {
     "data": {
      "text/plain": [
       "array([[1.  , 1.41, 1.73, 2.  , 2.24],\n",
       "       [2.45, 2.65, 2.83, 3.  , 3.16],\n",
       "       [3.32, 3.46, 3.61, 3.74, 3.87]])"
      ]
     },
     "execution_count": 383,
     "metadata": {},
     "output_type": "execute_result"
    }
   ],
   "source": [
    "# 8. Find the square root of all elements of myarray2 and divide the resulting array by 2. The result should be rounded to two places of decimals.\n",
    "myarray2_squareroot = np.sqrt(myarray2)\n",
    "np.round(myarray2_squareroot / 2, 2)"
   ]
  },
  {
   "cell_type": "markdown",
   "id": "d8aafc74",
   "metadata": {},
   "source": [
    "Using the arrays created above, write NumPy commands for the following: \n",
    "1. Find the transpose of ones and myarray2. \n",
    "2. Sort the array vowels in reverse. \n",
    "3. Sort the array myarray1 such that it brings the lowest value of the column in the first row and so on."
   ]
  },
  {
   "cell_type": "code",
   "execution_count": 405,
   "id": "573c6506",
   "metadata": {},
   "outputs": [
    {
     "name": "stdout",
     "output_type": "stream",
     "text": [
      "Ones:  [[1 1]\n",
      " [1 1]\n",
      " [1 1]\n",
      " [1 1]\n",
      " [1 1]]\n",
      "myarray2:  [[ 4. 24. 44.]\n",
      " [ 8. 28. 48.]\n",
      " [12. 32. 52.]\n",
      " [16. 36. 56.]\n",
      " [20. 40. 60.]]\n"
     ]
    }
   ],
   "source": [
    "# 1. Find the transpose of ones and myarray2.\n",
    "print(\"Ones: \", ones.T)\n",
    "print(\"myarray2: \", myarray2.T)"
   ]
  },
  {
   "cell_type": "code",
   "execution_count": 401,
   "id": "717a7b3b-7f4e-42ff-8451-070adaa3328f",
   "metadata": {},
   "outputs": [
    {
     "name": "stdout",
     "output_type": "stream",
     "text": [
      "['u' 'o' 'i' 'e' 'a']\n"
     ]
    }
   ],
   "source": [
    "# 2. Sort the array vowels in reverse.\n",
    "print(vowels[::-1])"
   ]
  },
  {
   "cell_type": "code",
   "execution_count": 415,
   "id": "e7af94ca-fc41-4956-a5c6-9caaa194ffa1",
   "metadata": {},
   "outputs": [
    {
     "data": {
      "text/plain": [
       "array([[-19. ,   0. ,  -2. ],\n",
       "       [  2.7,  10.6,   0. ],\n",
       "       [  3.4,  99.9,  13. ]])"
      ]
     },
     "execution_count": 415,
     "metadata": {},
     "output_type": "execute_result"
    }
   ],
   "source": [
    "# 3. Sort the array myarray1 such that it brings the lowest value of the column in the first row and so on.\n",
    "np.sort(myarray1, axis = 0) # sorts the array along the first axis of the columns\n"
   ]
  },
  {
   "cell_type": "markdown",
   "id": "93546856",
   "metadata": {},
   "source": [
    "Create a 2-D array called myarray4 using arange() having 14 rows and 3 columns with start value = -1, step size 0.25 having. Split this array row wise into 3 equal parts and print the result. "
   ]
  },
  {
   "cell_type": "code",
   "execution_count": 558,
   "id": "441dd934",
   "metadata": {},
   "outputs": [
    {
     "data": {
      "text/plain": [
       "[array([[-1.  , -0.75, -0.5 , -0.25,  0.  ,  0.25,  0.5 ],\n",
       "        [ 0.75,  1.  ,  1.25,  1.5 ,  1.75,  2.  ,  2.25]]),\n",
       " array([[2.5 , 2.75, 3.  , 3.25, 3.5 , 3.75, 4.  ],\n",
       "        [4.25, 4.5 , 4.75, 5.  , 5.25, 5.5 , 5.75]]),\n",
       " array([[6.  , 6.25, 6.5 , 6.75, 7.  , 7.25, 7.5 ],\n",
       "        [7.75, 8.  , 8.25, 8.5 , 8.75, 9.  , 9.25]])]"
      ]
     },
     "execution_count": 558,
     "metadata": {},
     "output_type": "execute_result"
    }
   ],
   "source": [
    "myarray4 = np.arange(-1, -1 + 42 * 0.25, 0.25) # 14 * 3 = 42\n",
    "myarray4.reshape(14,3)\n",
    "myarray4_split = np.array_split(myarray4, 3) # each array will get 14 elements\n",
    "myarray4_split_reshaped = [part.reshape(2, 7) for part in myarray4_split] # make each splitted part (2,7)\n",
    "myarray4_split_reshaped"
   ]
  },
  {
   "cell_type": "markdown",
   "id": "c8cdbaff",
   "metadata": {},
   "source": [
    "Using the myarray4 created in the above questions, write commands for the following: \n",
    "1. Find the sum of all elements. \n",
    "2. Find the sum of all elements row wise\n",
    "3. Find the sum of all elements column wise. \n",
    "4. Find the max of all elements. \n",
    "5. Find the min of all elements in each row. \n",
    "6. Find the mean of all elements in each row. \n",
    "7. Find the standard deviation column wise."
   ]
  },
  {
   "cell_type": "code",
   "execution_count": 560,
   "id": "66af8b55",
   "metadata": {},
   "outputs": [
    {
     "data": {
      "text/plain": [
       "173.25"
      ]
     },
     "execution_count": 560,
     "metadata": {},
     "output_type": "execute_result"
    }
   ],
   "source": [
    "# 1. Find the sum of all elements.\n",
    "np.sum(myarray4)"
   ]
  },
  {
   "cell_type": "code",
   "execution_count": 568,
   "id": "bb3156ec-5526-45e5-9b49-a217f721bd00",
   "metadata": {},
   "outputs": [
    {
     "data": {
      "text/plain": [
       "[array([-1.75, 10.5 ]), array([22.75, 35.  ]), array([47.25, 59.5 ])]"
      ]
     },
     "execution_count": 568,
     "metadata": {},
     "output_type": "execute_result"
    }
   ],
   "source": [
    "# 2. Find the sum of all elements row wise\n",
    "row_sum = [np.sum(part, axis=1) for part in myarray4_split_reshaped] # calculates the sum across the columns for each row\n",
    "row_sum"
   ]
  },
  {
   "cell_type": "code",
   "execution_count": 570,
   "id": "dd87bede-0c7b-4296-a0ca-a4d63d075552",
   "metadata": {},
   "outputs": [
    {
     "data": {
      "text/plain": [
       "[array([-0.25,  0.25,  0.75,  1.25,  1.75,  2.25,  2.75]),\n",
       " array([6.75, 7.25, 7.75, 8.25, 8.75, 9.25, 9.75]),\n",
       " array([13.75, 14.25, 14.75, 15.25, 15.75, 16.25, 16.75])]"
      ]
     },
     "execution_count": 570,
     "metadata": {},
     "output_type": "execute_result"
    }
   ],
   "source": [
    "# 3. Find the sum of all elements column wise.\n",
    "column_sum = [np.sum(part, axis=0) for part in myarray4_split_reshaped] # calculate the sum across the rows for each column\n",
    "column_sum"
   ]
  },
  {
   "cell_type": "code",
   "execution_count": 572,
   "id": "da97b4c0-fe4c-4348-930f-2e9371888d8b",
   "metadata": {},
   "outputs": [
    {
     "data": {
      "text/plain": [
       "9.25"
      ]
     },
     "execution_count": 572,
     "metadata": {},
     "output_type": "execute_result"
    }
   ],
   "source": [
    "# 4. Find the max of all elements.\n",
    "np.max(myarray4)"
   ]
  },
  {
   "cell_type": "code",
   "execution_count": 574,
   "id": "adf84dad-a9fe-4795-8c0a-917f537d6093",
   "metadata": {},
   "outputs": [
    {
     "data": {
      "text/plain": [
       "-1.0"
      ]
     },
     "execution_count": 574,
     "metadata": {},
     "output_type": "execute_result"
    }
   ],
   "source": [
    "# 5. Find the min of all elements in each row.\n",
    "np.min(myarray4)"
   ]
  },
  {
   "cell_type": "code",
   "execution_count": 584,
   "id": "02c7e1ee-38af-417d-9dc2-67614a47a074",
   "metadata": {},
   "outputs": [
    {
     "data": {
      "text/plain": [
       "[array([-0.25,  1.5 ]), array([3.25, 5.  ]), array([6.75, 8.5 ])]"
      ]
     },
     "execution_count": 584,
     "metadata": {},
     "output_type": "execute_result"
    }
   ],
   "source": [
    "# 6. Find the mean of all elements in each row.\n",
    "mean = [np.mean(part, axis=1) for part in myarray4_split_reshaped]\n",
    "mean"
   ]
  },
  {
   "cell_type": "code",
   "execution_count": 606,
   "id": "7308fb9c-5758-4dbf-8855-d4dadfc9a007",
   "metadata": {},
   "outputs": [
    {
     "data": {
      "text/plain": [
       "[array([0.875, 0.875, 0.875, 0.875, 0.875, 0.875, 0.875]),\n",
       " array([0.875, 0.875, 0.875, 0.875, 0.875, 0.875, 0.875]),\n",
       " array([0.875, 0.875, 0.875, 0.875, 0.875, 0.875, 0.875])]"
      ]
     },
     "execution_count": 606,
     "metadata": {},
     "output_type": "execute_result"
    }
   ],
   "source": [
    "# 7. Find the standard deviation column wise.\n",
    "std_devs = [np.std(part, axis=0) for part in myarray4_split_reshaped]\n",
    "std_devs"
   ]
  },
  {
   "cell_type": "markdown",
   "id": "8d7e1dca",
   "metadata": {},
   "source": [
    "#### Practice Exercise 2\n",
    "Read the coordinates of the capital cities of the world from the country-capital-lat-long-population.csv file. Use NumPy to print the name and coordinates of the capital city closest to the Saudi Arabia capital - Riyadh.\n",
    "\n",
    "Note that:\n",
    "\n",
    "1. The Country Name for Saudi Arabia is given as Saudi Arabia in the data.\n",
    "2. The ‘closeness’ of capital cities from the Saudi Arabia capital is based on the Euclidean distance of their coordinates to those of the Saudi Arabia capital.\n",
    "\n",
    "\n",
    "Hints:\n",
    "\n",
    "1. Use read_html() from the Pandas library to read the table.\n",
    "2. Use the to_numpy() function of the Pandas DataFrame class to convert a DataFrame to a Numpy array\n",
    "3. Use broadcasting to compute the euclidean distance of capital cities from Riyadh."
   ]
  },
  {
   "cell_type": "code",
   "execution_count": 3,
   "id": "ab6b9725",
   "metadata": {},
   "outputs": [
    {
     "name": "stdout",
     "output_type": "stream",
     "text": [
      "Capital: Al-Manamah (Manama) , Bahrain\n",
      "Coordinates: 26.2154, 50.5832\n"
     ]
    }
   ],
   "source": [
    "import pandas as pd\n",
    "import numpy as np\n",
    "ccp = pd.read_csv('country-capital-lat-long-population.csv')\n",
    "\n",
    "riyadh = ccp[ccp['Country'] == 'Saudi Arabia'][['Latitude', 'Longitude']].values[0] # riyadh coordinates\n",
    "distances = np.sqrt(np.sum((ccp[['Latitude', 'Longitude']].astype(float) - riyadh) ** 2, axis=1)) # Euclidean distances\n",
    "closest_index = np.argsort(distances)[1]  # 1 cuz if 0 then it would be riyadh \n",
    "closest_capital = ccp.iloc[closest_index] # location of the closest capital\n",
    "\n",
    "print(f\"Capital: {closest_capital['Capital City']}\", f\", {closest_capital['Country']}\")\n",
    "print(f\"Coordinates: {closest_capital['Latitude']}, {closest_capital['Longitude']}\")"
   ]
  },
  {
   "cell_type": "markdown",
   "id": "1fdbec05",
   "metadata": {},
   "source": [
    "#### Practical Exercise 2\n",
    "\n",
    "Use NumPy to:\n",
    "\n",
    "1. Print the names of the countries of the top 10 capital cities closest to the US capital - Washington DC.\n",
    "\n",
    "2. Create and print a NumPy array containing the coordinates of the top 10 cities."
   ]
  },
  {
   "cell_type": "code",
   "execution_count": 9,
   "id": "45046a85",
   "metadata": {},
   "outputs": [
    {
     "name": "stdout",
     "output_type": "stream",
     "text": [
      "Top 10 Countries: \n",
      " 148               New Caledonia\n",
      "149                 New Zealand\n",
      "150                   Nicaragua\n",
      "151                       Niger\n",
      "152                     Nigeria\n",
      "153                        Niue\n",
      "154    Northern Mariana Islands\n",
      "155                      Norway\n",
      "156                        Oman\n",
      "157                    Pakistan\n",
      "Name: Country, dtype: object\n"
     ]
    }
   ],
   "source": [
    "# 1.\n",
    "import pandas as pd\n",
    "import numpy as np\n",
    "ccp = pd.read_csv('country-capital-lat-long-population.csv')\n",
    "\n",
    "washington_dc = ccp[ccp['Capital City'] == 'Washington'][['Latitude', 'Longitude']] # washington coordinates\n",
    "distances = np.sqrt(np.sum((ccp[['Latitude', 'Longitude']].astype(float) - washington_dc) ** 2, axis=1)) # Euclidean distances\n",
    "countries10 = ccp['Country'][np.argsort(distances)[1:11]] # top 10 countries closest to washington, start 1 end 11 to exclude washington\n",
    "\n",
    "print(\"Top 10 Countries: \\n\" , countries10)"
   ]
  },
  {
   "cell_type": "code",
   "execution_count": 21,
   "id": "8e42ff40-5675-4a46-a07f-6b69a2aceb33",
   "metadata": {},
   "outputs": [
    {
     "name": "stdout",
     "output_type": "stream",
     "text": [
      "[[ -22.2763  166.4572]\n",
      " [ -41.2866  174.7756]\n",
      " [  12.1328  -86.2504]\n",
      " [  13.5137    2.1098]\n",
      " [   9.0574    7.4898]\n",
      " [ -19.0585 -169.9213]\n",
      " [  15.2123  145.7545]\n",
      " [  59.9127   10.7461]\n",
      " [  23.6139   58.5922]\n",
      " [  33.7035   73.0594]]\n"
     ]
    }
   ],
   "source": [
    "# 2. \n",
    "import numpy as np\n",
    "ccp = pd.read_csv('country-capital-lat-long-population.csv')\n",
    "\n",
    "washington_dc = ccp[ccp['Capital City'] == 'Washington'][['Latitude', 'Longitude']]\n",
    "distances = np.sqrt(np.sum((ccp[['Latitude', 'Longitude']].astype(float) - washington_dc) ** 2, axis=1)) \n",
    "indices = np.argsort(distances)[1:11] \n",
    "coordinates_10 = ccp.iloc[indices][['Latitude', 'Longitude']].to_numpy() # NumPy array containing the coordinates of the top 10 cities\n",
    "\n",
    "print(coordinates_10)"
   ]
  },
  {
   "cell_type": "code",
   "execution_count": null,
   "id": "7be1649c-1583-4375-aaa1-f5827974161d",
   "metadata": {},
   "outputs": [],
   "source": []
  }
 ],
 "metadata": {
  "kernelspec": {
   "display_name": "Python 3 (ipykernel)",
   "language": "python",
   "name": "python3"
  },
  "language_info": {
   "codemirror_mode": {
    "name": "ipython",
    "version": 3
   },
   "file_extension": ".py",
   "mimetype": "text/x-python",
   "name": "python",
   "nbconvert_exporter": "python",
   "pygments_lexer": "ipython3",
   "version": "3.12.4"
  }
 },
 "nbformat": 4,
 "nbformat_minor": 5
}
